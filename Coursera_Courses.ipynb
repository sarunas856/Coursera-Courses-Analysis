{
 "cells": [
  {
   "cell_type": "markdown",
   "id": "c092e212",
   "metadata": {},
   "source": [
    "# Analysis of the Coursera Course Dataset"
   ]
  },
  {
   "cell_type": "markdown",
   "id": "0625cd54",
   "metadata": {},
   "source": [
    "## 1. Introduction"
   ]
  },
  {
   "cell_type": "markdown",
   "id": "dbf3d996",
   "metadata": {},
   "source": [
    "The goals of the project are to explore trends, practice fundamental exploratory data analysis (EDA), enhance data visualization skills using Matplotlib and Seaborn, and identify the best organizations for learning."
   ]
  },
  {
   "cell_type": "markdown",
   "id": "e56d2dce",
   "metadata": {},
   "source": [
    "Coursera (open online course provider) Course dataset contains mainly 6 columns and 891 course data. (https://www.kaggle.com/datasets/siddharthm1698/coursera-course-dataset)"
   ]
  },
  {
   "cell_type": "markdown",
   "id": "a3c083b1",
   "metadata": {},
   "source": [
    "The dataset, `coursea_data.csv`, contains the following features:\n",
    "\n",
    "**course_title** - Specifies the title of the course.\n",
    "\n",
    "**course_organization** - Indicates the organization offering the course.\n",
    "\n",
    "**course_Certificate_type** - Provides information about the types of certifications available for the course.\n",
    "\n",
    "**course_rating** - Displays the ratings assigned to the course.\n",
    "\n",
    "**course_difficulty** - Describes the difficulty level of the course.\n",
    "\n",
    "**course_students_enrolled** - Shows the total number of students enrolled in the course."
   ]
  },
  {
   "cell_type": "code",
   "execution_count": 1,
   "id": "369678ce",
   "metadata": {},
   "outputs": [],
   "source": [
    "import pandas as pd\n",
    "import numpy as np\n",
    "from matplotlib import pyplot as plt\n",
    "import seaborn as sns\n",
    "from sklearn.preprocessing import MinMaxScaler"
   ]
  },
  {
   "cell_type": "code",
   "execution_count": 2,
   "id": "1a1ae401",
   "metadata": {},
   "outputs": [],
   "source": [
    "pd.set_option(\"display.max_colwidth\", 200)\n",
    "pd.set_option(\"future.no_silent_downcasting\", True)\n",
    "pd.set_option(\"display.float_format\", lambda x: \"%.2f\" % x)"
   ]
  },
  {
   "cell_type": "markdown",
   "id": "6ed49db2",
   "metadata": {},
   "source": [
    "## 2. Data Cleaning"
   ]
  },
  {
   "cell_type": "code",
   "execution_count": 3,
   "id": "d8df6f7c",
   "metadata": {},
   "outputs": [],
   "source": [
    "courses = pd.read_csv(\"dataset/coursea_data.csv\").drop(\"Unnamed: 0\", axis=1)"
   ]
  },
  {
   "cell_type": "code",
   "execution_count": 4,
   "id": "62c420a7",
   "metadata": {},
   "outputs": [],
   "source": [
    "courses.rename(\n",
    "    columns={\n",
    "        \"course_title\": \"Course Title\",\n",
    "        \"course_organization\": \"Course Organization\",\n",
    "        \"course_Certificate_type\": \"Course Certificate Type\",\n",
    "        \"course_rating\": \"Course Rating\",\n",
    "        \"course_difficulty\": \"Course Difficulty\",\n",
    "        \"course_students_enrolled\": \"Students Enrolled\",\n",
    "    },\n",
    "    inplace=True,\n",
    ")"
   ]
  },
  {
   "cell_type": "code",
   "execution_count": 5,
   "id": "01ce8405",
   "metadata": {},
   "outputs": [
    {
     "data": {
      "text/html": [
       "<div>\n",
       "<style scoped>\n",
       "    .dataframe tbody tr th:only-of-type {\n",
       "        vertical-align: middle;\n",
       "    }\n",
       "\n",
       "    .dataframe tbody tr th {\n",
       "        vertical-align: top;\n",
       "    }\n",
       "\n",
       "    .dataframe thead th {\n",
       "        text-align: right;\n",
       "    }\n",
       "</style>\n",
       "<table border=\"1\" class=\"dataframe\">\n",
       "  <thead>\n",
       "    <tr style=\"text-align: right;\">\n",
       "      <th></th>\n",
       "      <th>Course Title</th>\n",
       "      <th>Course Organization</th>\n",
       "      <th>Course Certificate Type</th>\n",
       "      <th>Course Rating</th>\n",
       "      <th>Course Difficulty</th>\n",
       "      <th>Students Enrolled</th>\n",
       "    </tr>\n",
       "  </thead>\n",
       "  <tbody>\n",
       "    <tr>\n",
       "      <th>0</th>\n",
       "      <td>(ISC)² Systems Security Certified Practitioner (SSCP)</td>\n",
       "      <td>(ISC)²</td>\n",
       "      <td>SPECIALIZATION</td>\n",
       "      <td>4.70</td>\n",
       "      <td>Beginner</td>\n",
       "      <td>5.3k</td>\n",
       "    </tr>\n",
       "    <tr>\n",
       "      <th>1</th>\n",
       "      <td>A Crash Course in Causality:  Inferring Causal Effects from Observational Data</td>\n",
       "      <td>University of Pennsylvania</td>\n",
       "      <td>COURSE</td>\n",
       "      <td>4.70</td>\n",
       "      <td>Intermediate</td>\n",
       "      <td>17k</td>\n",
       "    </tr>\n",
       "    <tr>\n",
       "      <th>2</th>\n",
       "      <td>A Crash Course in Data Science</td>\n",
       "      <td>Johns Hopkins University</td>\n",
       "      <td>COURSE</td>\n",
       "      <td>4.50</td>\n",
       "      <td>Mixed</td>\n",
       "      <td>130k</td>\n",
       "    </tr>\n",
       "    <tr>\n",
       "      <th>3</th>\n",
       "      <td>A Law Student's Toolkit</td>\n",
       "      <td>Yale University</td>\n",
       "      <td>COURSE</td>\n",
       "      <td>4.70</td>\n",
       "      <td>Mixed</td>\n",
       "      <td>91k</td>\n",
       "    </tr>\n",
       "    <tr>\n",
       "      <th>4</th>\n",
       "      <td>A Life of Happiness and Fulfillment</td>\n",
       "      <td>Indian School of Business</td>\n",
       "      <td>COURSE</td>\n",
       "      <td>4.80</td>\n",
       "      <td>Mixed</td>\n",
       "      <td>320k</td>\n",
       "    </tr>\n",
       "  </tbody>\n",
       "</table>\n",
       "</div>"
      ],
      "text/plain": [
       "                                                                     Course Title  \\\n",
       "0                           (ISC)² Systems Security Certified Practitioner (SSCP)   \n",
       "1  A Crash Course in Causality:  Inferring Causal Effects from Observational Data   \n",
       "2                                                  A Crash Course in Data Science   \n",
       "3                                                         A Law Student's Toolkit   \n",
       "4                                             A Life of Happiness and Fulfillment   \n",
       "\n",
       "          Course Organization Course Certificate Type  Course Rating  \\\n",
       "0                      (ISC)²          SPECIALIZATION           4.70   \n",
       "1  University of Pennsylvania                  COURSE           4.70   \n",
       "2    Johns Hopkins University                  COURSE           4.50   \n",
       "3             Yale University                  COURSE           4.70   \n",
       "4   Indian School of Business                  COURSE           4.80   \n",
       "\n",
       "  Course Difficulty Students Enrolled  \n",
       "0          Beginner              5.3k  \n",
       "1      Intermediate               17k  \n",
       "2             Mixed              130k  \n",
       "3             Mixed               91k  \n",
       "4             Mixed              320k  "
      ]
     },
     "execution_count": 5,
     "metadata": {},
     "output_type": "execute_result"
    }
   ],
   "source": [
    "courses.head()"
   ]
  },
  {
   "cell_type": "markdown",
   "id": "83067abb",
   "metadata": {},
   "source": [
    "**Check for NaN values.**"
   ]
  },
  {
   "cell_type": "code",
   "execution_count": 6,
   "id": "46db1624",
   "metadata": {},
   "outputs": [
    {
     "name": "stdout",
     "output_type": "stream",
     "text": [
      "How many NaN values: 0\n"
     ]
    }
   ],
   "source": [
    "missing_values_counts = courses.isna().sum()\n",
    "print(f\"How many NaN values:\", sum(missing_values_counts))"
   ]
  },
  {
   "cell_type": "markdown",
   "id": "52aecb86",
   "metadata": {},
   "source": [
    "**Converting the <font color='blue'>Students Enrolled</font> column to a numeric format.**"
   ]
  },
  {
   "cell_type": "code",
   "execution_count": 7,
   "id": "63c87813",
   "metadata": {},
   "outputs": [],
   "source": [
    "courses[\"Students Enrolled\"] = (\n",
    "    courses[\"Students Enrolled\"].replace(r\"[km]+$\", \"\", regex=True).astype(float)\n",
    "    * courses[\"Students Enrolled\"]\n",
    "    .str.extract(r\"[\\d\\.]+([km]+)\", expand=False)\n",
    "    .replace([\"k\", \"m\"], [10**3, 10**6])\n",
    ").astype(\"int64\")"
   ]
  },
  {
   "cell_type": "code",
   "execution_count": 8,
   "id": "7ddb5311",
   "metadata": {},
   "outputs": [
    {
     "data": {
      "text/html": [
       "<div>\n",
       "<style scoped>\n",
       "    .dataframe tbody tr th:only-of-type {\n",
       "        vertical-align: middle;\n",
       "    }\n",
       "\n",
       "    .dataframe tbody tr th {\n",
       "        vertical-align: top;\n",
       "    }\n",
       "\n",
       "    .dataframe thead th {\n",
       "        text-align: right;\n",
       "    }\n",
       "</style>\n",
       "<table border=\"1\" class=\"dataframe\">\n",
       "  <thead>\n",
       "    <tr style=\"text-align: right;\">\n",
       "      <th></th>\n",
       "      <th>Course Title</th>\n",
       "      <th>Course Organization</th>\n",
       "      <th>Course Certificate Type</th>\n",
       "      <th>Course Rating</th>\n",
       "      <th>Course Difficulty</th>\n",
       "      <th>Students Enrolled</th>\n",
       "    </tr>\n",
       "  </thead>\n",
       "  <tbody>\n",
       "    <tr>\n",
       "      <th>886</th>\n",
       "      <td>Программирование на Python</td>\n",
       "      <td>Mail.Ru Group</td>\n",
       "      <td>SPECIALIZATION</td>\n",
       "      <td>4.50</td>\n",
       "      <td>Intermediate</td>\n",
       "      <td>52000</td>\n",
       "    </tr>\n",
       "    <tr>\n",
       "      <th>887</th>\n",
       "      <td>Психолингвистика (Psycholinguistics)</td>\n",
       "      <td>Saint Petersburg State University</td>\n",
       "      <td>COURSE</td>\n",
       "      <td>4.80</td>\n",
       "      <td>Mixed</td>\n",
       "      <td>21000</td>\n",
       "    </tr>\n",
       "    <tr>\n",
       "      <th>888</th>\n",
       "      <td>Разработка интерфейсов: вёрстка и JavaScript</td>\n",
       "      <td>E-Learning Development Fund</td>\n",
       "      <td>SPECIALIZATION</td>\n",
       "      <td>4.50</td>\n",
       "      <td>Intermediate</td>\n",
       "      <td>30000</td>\n",
       "    </tr>\n",
       "    <tr>\n",
       "      <th>889</th>\n",
       "      <td>Русский как иностранный</td>\n",
       "      <td>Saint Petersburg State University</td>\n",
       "      <td>SPECIALIZATION</td>\n",
       "      <td>4.60</td>\n",
       "      <td>Intermediate</td>\n",
       "      <td>9800</td>\n",
       "    </tr>\n",
       "    <tr>\n",
       "      <th>890</th>\n",
       "      <td>Финансовые инструменты для частного инвестора</td>\n",
       "      <td>National Research University Higher School of Economics</td>\n",
       "      <td>SPECIALIZATION</td>\n",
       "      <td>4.70</td>\n",
       "      <td>Beginner</td>\n",
       "      <td>38000</td>\n",
       "    </tr>\n",
       "  </tbody>\n",
       "</table>\n",
       "</div>"
      ],
      "text/plain": [
       "                                      Course Title  \\\n",
       "886                     Программирование на Python   \n",
       "887           Психолингвистика (Psycholinguistics)   \n",
       "888   Разработка интерфейсов: вёрстка и JavaScript   \n",
       "889                        Русский как иностранный   \n",
       "890  Финансовые инструменты для частного инвестора   \n",
       "\n",
       "                                         Course Organization  \\\n",
       "886                                            Mail.Ru Group   \n",
       "887                        Saint Petersburg State University   \n",
       "888                              E-Learning Development Fund   \n",
       "889                        Saint Petersburg State University   \n",
       "890  National Research University Higher School of Economics   \n",
       "\n",
       "    Course Certificate Type  Course Rating Course Difficulty  \\\n",
       "886          SPECIALIZATION           4.50      Intermediate   \n",
       "887                  COURSE           4.80             Mixed   \n",
       "888          SPECIALIZATION           4.50      Intermediate   \n",
       "889          SPECIALIZATION           4.60      Intermediate   \n",
       "890          SPECIALIZATION           4.70          Beginner   \n",
       "\n",
       "     Students Enrolled  \n",
       "886              52000  \n",
       "887              21000  \n",
       "888              30000  \n",
       "889               9800  \n",
       "890              38000  "
      ]
     },
     "execution_count": 8,
     "metadata": {},
     "output_type": "execute_result"
    }
   ],
   "source": [
    "courses.tail()"
   ]
  },
  {
   "cell_type": "markdown",
   "id": "4c3524e8",
   "metadata": {},
   "source": [
    "## 3. Data Analysis"
   ]
  },
  {
   "cell_type": "markdown",
   "id": "0e2e5c84",
   "metadata": {},
   "source": [
    "### 3.1 Initial Data checks"
   ]
  },
  {
   "cell_type": "code",
   "execution_count": 9,
   "id": "8c906f4e",
   "metadata": {},
   "outputs": [
    {
     "name": "stdout",
     "output_type": "stream",
     "text": [
      "<class 'pandas.core.frame.DataFrame'>\n",
      "RangeIndex: 891 entries, 0 to 890\n",
      "Data columns (total 6 columns):\n",
      " #   Column                   Non-Null Count  Dtype  \n",
      "---  ------                   --------------  -----  \n",
      " 0   Course Title             891 non-null    object \n",
      " 1   Course Organization      891 non-null    object \n",
      " 2   Course Certificate Type  891 non-null    object \n",
      " 3   Course Rating            891 non-null    float64\n",
      " 4   Course Difficulty        891 non-null    object \n",
      " 5   Students Enrolled        891 non-null    int64  \n",
      "dtypes: float64(1), int64(1), object(4)\n",
      "memory usage: 41.9+ KB\n"
     ]
    }
   ],
   "source": [
    "courses.info()"
   ]
  },
  {
   "cell_type": "code",
   "execution_count": 10,
   "id": "2025ad45",
   "metadata": {},
   "outputs": [
    {
     "data": {
      "text/html": [
       "<div>\n",
       "<style scoped>\n",
       "    .dataframe tbody tr th:only-of-type {\n",
       "        vertical-align: middle;\n",
       "    }\n",
       "\n",
       "    .dataframe tbody tr th {\n",
       "        vertical-align: top;\n",
       "    }\n",
       "\n",
       "    .dataframe thead th {\n",
       "        text-align: right;\n",
       "    }\n",
       "</style>\n",
       "<table border=\"1\" class=\"dataframe\">\n",
       "  <thead>\n",
       "    <tr style=\"text-align: right;\">\n",
       "      <th></th>\n",
       "      <th>count</th>\n",
       "      <th>unique</th>\n",
       "      <th>top</th>\n",
       "      <th>freq</th>\n",
       "    </tr>\n",
       "  </thead>\n",
       "  <tbody>\n",
       "    <tr>\n",
       "      <th>Course Title</th>\n",
       "      <td>891</td>\n",
       "      <td>888</td>\n",
       "      <td>Developing Your Musicianship</td>\n",
       "      <td>2</td>\n",
       "    </tr>\n",
       "    <tr>\n",
       "      <th>Course Organization</th>\n",
       "      <td>891</td>\n",
       "      <td>154</td>\n",
       "      <td>University of Pennsylvania</td>\n",
       "      <td>59</td>\n",
       "    </tr>\n",
       "    <tr>\n",
       "      <th>Course Certificate Type</th>\n",
       "      <td>891</td>\n",
       "      <td>3</td>\n",
       "      <td>COURSE</td>\n",
       "      <td>582</td>\n",
       "    </tr>\n",
       "    <tr>\n",
       "      <th>Course Difficulty</th>\n",
       "      <td>891</td>\n",
       "      <td>4</td>\n",
       "      <td>Beginner</td>\n",
       "      <td>487</td>\n",
       "    </tr>\n",
       "  </tbody>\n",
       "</table>\n",
       "</div>"
      ],
      "text/plain": [
       "                        count unique                           top freq\n",
       "Course Title              891    888  Developing Your Musicianship    2\n",
       "Course Organization       891    154    University of Pennsylvania   59\n",
       "Course Certificate Type   891      3                        COURSE  582\n",
       "Course Difficulty         891      4                      Beginner  487"
      ]
     },
     "execution_count": 10,
     "metadata": {},
     "output_type": "execute_result"
    }
   ],
   "source": [
    "courses.describe(include=[\"object\"]).T"
   ]
  },
  {
   "cell_type": "markdown",
   "id": "1f71ed91",
   "metadata": {},
   "source": [
    "**Check for dublicates because some <font color='blue'>Courses Titles</font> are the same.**"
   ]
  },
  {
   "cell_type": "code",
   "execution_count": 11,
   "id": "85d44aad",
   "metadata": {
    "scrolled": true
   },
   "outputs": [
    {
     "data": {
      "text/html": [
       "<div>\n",
       "<style scoped>\n",
       "    .dataframe tbody tr th:only-of-type {\n",
       "        vertical-align: middle;\n",
       "    }\n",
       "\n",
       "    .dataframe tbody tr th {\n",
       "        vertical-align: top;\n",
       "    }\n",
       "\n",
       "    .dataframe thead th {\n",
       "        text-align: right;\n",
       "    }\n",
       "</style>\n",
       "<table border=\"1\" class=\"dataframe\">\n",
       "  <thead>\n",
       "    <tr style=\"text-align: right;\">\n",
       "      <th></th>\n",
       "      <th>Course Title</th>\n",
       "      <th>Course Organization</th>\n",
       "      <th>Course Certificate Type</th>\n",
       "      <th>Course Rating</th>\n",
       "      <th>Course Difficulty</th>\n",
       "      <th>Students Enrolled</th>\n",
       "    </tr>\n",
       "  </thead>\n",
       "  <tbody>\n",
       "    <tr>\n",
       "      <th>224</th>\n",
       "      <td>Developing Your Musicianship</td>\n",
       "      <td>Berklee College of Music</td>\n",
       "      <td>COURSE</td>\n",
       "      <td>4.80</td>\n",
       "      <td>Mixed</td>\n",
       "      <td>41000</td>\n",
       "    </tr>\n",
       "    <tr>\n",
       "      <th>225</th>\n",
       "      <td>Developing Your Musicianship</td>\n",
       "      <td>Berklee College of Music</td>\n",
       "      <td>SPECIALIZATION</td>\n",
       "      <td>4.80</td>\n",
       "      <td>Beginner</td>\n",
       "      <td>54000</td>\n",
       "    </tr>\n",
       "    <tr>\n",
       "      <th>563</th>\n",
       "      <td>Machine Learning</td>\n",
       "      <td>University of Washington</td>\n",
       "      <td>SPECIALIZATION</td>\n",
       "      <td>4.60</td>\n",
       "      <td>Intermediate</td>\n",
       "      <td>290000</td>\n",
       "    </tr>\n",
       "    <tr>\n",
       "      <th>564</th>\n",
       "      <td>Machine Learning</td>\n",
       "      <td>Stanford University</td>\n",
       "      <td>COURSE</td>\n",
       "      <td>4.90</td>\n",
       "      <td>Mixed</td>\n",
       "      <td>3200000</td>\n",
       "    </tr>\n",
       "    <tr>\n",
       "      <th>582</th>\n",
       "      <td>Marketing Digital</td>\n",
       "      <td>Universidade de São Paulo</td>\n",
       "      <td>COURSE</td>\n",
       "      <td>4.80</td>\n",
       "      <td>Beginner</td>\n",
       "      <td>81000</td>\n",
       "    </tr>\n",
       "    <tr>\n",
       "      <th>583</th>\n",
       "      <td>Marketing Digital</td>\n",
       "      <td>Universidad Austral</td>\n",
       "      <td>SPECIALIZATION</td>\n",
       "      <td>4.70</td>\n",
       "      <td>Beginner</td>\n",
       "      <td>39000</td>\n",
       "    </tr>\n",
       "  </tbody>\n",
       "</table>\n",
       "</div>"
      ],
      "text/plain": [
       "                     Course Title        Course Organization  \\\n",
       "224  Developing Your Musicianship   Berklee College of Music   \n",
       "225  Developing Your Musicianship   Berklee College of Music   \n",
       "563              Machine Learning   University of Washington   \n",
       "564              Machine Learning        Stanford University   \n",
       "582             Marketing Digital  Universidade de São Paulo   \n",
       "583             Marketing Digital        Universidad Austral   \n",
       "\n",
       "    Course Certificate Type  Course Rating Course Difficulty  \\\n",
       "224                  COURSE           4.80             Mixed   \n",
       "225          SPECIALIZATION           4.80          Beginner   \n",
       "563          SPECIALIZATION           4.60      Intermediate   \n",
       "564                  COURSE           4.90             Mixed   \n",
       "582                  COURSE           4.80          Beginner   \n",
       "583          SPECIALIZATION           4.70          Beginner   \n",
       "\n",
       "     Students Enrolled  \n",
       "224              41000  \n",
       "225              54000  \n",
       "563             290000  \n",
       "564            3200000  \n",
       "582              81000  \n",
       "583              39000  "
      ]
     },
     "execution_count": 11,
     "metadata": {},
     "output_type": "execute_result"
    }
   ],
   "source": [
    "courses_counts = courses[\"Course Title\"].value_counts()\n",
    "courses_with_more_organization = courses[\n",
    "    courses[\"Course Title\"].isin(courses_counts[courses_counts > 1].index)\n",
    "]\n",
    "courses_with_more_organization[\n",
    "    [\n",
    "        \"Course Title\",\n",
    "        \"Course Organization\",\n",
    "        \"Course Certificate Type\",\n",
    "        \"Course Rating\",\n",
    "        \"Course Difficulty\",\n",
    "        \"Students Enrolled\",\n",
    "    ]\n",
    "]"
   ]
  },
  {
   "cell_type": "markdown",
   "id": "6d9f77eb",
   "metadata": {},
   "source": [
    "**Despite some courses having the same title, all 891 courses are unique.**"
   ]
  },
  {
   "cell_type": "markdown",
   "id": "82988d82",
   "metadata": {},
   "source": [
    "Reusable function to plot countplot and customize appearance:"
   ]
  },
  {
   "cell_type": "code",
   "execution_count": 12,
   "id": "d5421b7c",
   "metadata": {},
   "outputs": [],
   "source": [
    "def plot_countplot(ax, x, data, hue, title, order=None, legend=False):\n",
    "    data_filtered = data[data[x].map(data[x].value_counts()) > 0]\n",
    "\n",
    "    sns.countplot(\n",
    "        x=x,\n",
    "        data=data_filtered,\n",
    "        hue=hue,\n",
    "        palette=\"pastel\",\n",
    "        legend=legend,\n",
    "        ax=ax,\n",
    "        order=order,\n",
    "    )\n",
    "    ax.set_title(title, fontsize=18)\n",
    "    ax.set(xlabel=None, ylabel=None)\n",
    "    ax.set_facecolor(\"white\")\n",
    "    ax.grid(False)\n",
    "    ax.spines[\"top\"].set_visible(False)\n",
    "    ax.spines[\"right\"].set_visible(False)\n",
    "\n",
    "    total_count = len(data_filtered)\n",
    "\n",
    "    for bar in ax.patches:\n",
    "        bar_height = bar.get_height()\n",
    "        if bar_height > 0:\n",
    "            percentage = (bar_height / total_count) * 100\n",
    "            ax.text(\n",
    "                bar.get_x() + bar.get_width() / 2,\n",
    "                bar_height + 0.1,\n",
    "                f\"{percentage:.2f}%\",\n",
    "                ha=\"center\",\n",
    "                va=\"bottom\",\n",
    "                color=\"black\",\n",
    "                fontsize=10,\n",
    "            )\n",
    "\n",
    "    y_max = ax.get_ylim()[1]\n",
    "    ax.set_ylim(0, y_max * 1.02)"
   ]
  },
  {
   "cell_type": "markdown",
   "id": "40eb51f8",
   "metadata": {},
   "source": [
    "**Plotting <font color='blue'>Course Certificate Type</font> and <font color='blue'>Course Difficulty</font> distributions.**"
   ]
  },
  {
   "cell_type": "code",
   "execution_count": 13,
   "id": "1a32ab58",
   "metadata": {},
   "outputs": [
    {
     "data": {
      "image/png": "[encoded data removed]",
      "text/plain": [
       "<Figure size 864x360 with 2 Axes>"
      ]
     },
     "metadata": {
      "needs_background": "light"
     },
     "output_type": "display_data"
    },
    {
     "data": {
      "image/png": "[encoded data removed]",
      "text/plain": [
       "<Figure size 576x360 with 1 Axes>"
      ]
     },
     "metadata": {
      "needs_background": "light"
     },
     "output_type": "display_data"
    }
   ],
   "source": [
    "fig, axes = plt.subplots(1, 2, figsize=(12, 5))\n",
    "\n",
    "order_certificate = courses[\"Course Certificate Type\"].value_counts().index\n",
    "order_difficulty = courses[\"Course Difficulty\"].value_counts().index\n",
    "\n",
    "plot_countplot(\n",
    "    axes[0],\n",
    "    \"Course Certificate Type\",\n",
    "    courses,\n",
    "    \"Course Certificate Type\",\n",
    "    \"Course Certification Type Distribution\",\n",
    "    order_certificate,\n",
    ")\n",
    "plot_countplot(\n",
    "    axes[1],\n",
    "    \"Course Difficulty\",\n",
    "    courses,\n",
    "    \"Course Difficulty\",\n",
    "    \"Course Difficulty Distribution\",\n",
    "    order_difficulty,\n",
    ")\n",
    "\n",
    "plt.tight_layout()\n",
    "\n",
    "fig, ax = plt.subplots(figsize=(8, 5))\n",
    "plot_countplot(\n",
    "    ax,\n",
    "    \"Course Difficulty\",\n",
    "    courses,\n",
    "    \"Course Certificate Type\",\n",
    "    \"Course Certificate Type by Course Difficulty\",\n",
    "    legend=True,\n",
    ")\n",
    "\n",
    "plt.show()"
   ]
  },
  {
   "cell_type": "markdown",
   "id": "90eb9897",
   "metadata": {},
   "source": [
    "**These trends reveal that organizations tend to offer a wide variety of beginner-level courses, with a stronger emphasis on general courses rather than specialized or professional certifications.**"
   ]
  },
  {
   "cell_type": "markdown",
   "id": "10a01a6f",
   "metadata": {},
   "source": [
    "### 3.2 Analysis of <font color='red'>Course Rating</font> and <font color='blue'>Students Enrolled</font> features"
   ]
  },
  {
   "cell_type": "code",
   "execution_count": 14,
   "id": "ecedde9b",
   "metadata": {},
   "outputs": [
    {
     "data": {
      "text/html": [
       "<div>\n",
       "<style scoped>\n",
       "    .dataframe tbody tr th:only-of-type {\n",
       "        vertical-align: middle;\n",
       "    }\n",
       "\n",
       "    .dataframe tbody tr th {\n",
       "        vertical-align: top;\n",
       "    }\n",
       "\n",
       "    .dataframe thead th {\n",
       "        text-align: right;\n",
       "    }\n",
       "</style>\n",
       "<table border=\"1\" class=\"dataframe\">\n",
       "  <thead>\n",
       "    <tr style=\"text-align: right;\">\n",
       "      <th></th>\n",
       "      <th>Course Rating</th>\n",
       "      <th>Students Enrolled</th>\n",
       "    </tr>\n",
       "  </thead>\n",
       "  <tbody>\n",
       "    <tr>\n",
       "      <th>count</th>\n",
       "      <td>891.00</td>\n",
       "      <td>891.00</td>\n",
       "    </tr>\n",
       "    <tr>\n",
       "      <th>mean</th>\n",
       "      <td>4.68</td>\n",
       "      <td>90552.08</td>\n",
       "    </tr>\n",
       "    <tr>\n",
       "      <th>std</th>\n",
       "      <td>0.16</td>\n",
       "      <td>181936.45</td>\n",
       "    </tr>\n",
       "    <tr>\n",
       "      <th>min</th>\n",
       "      <td>3.30</td>\n",
       "      <td>1500.00</td>\n",
       "    </tr>\n",
       "    <tr>\n",
       "      <th>25%</th>\n",
       "      <td>4.60</td>\n",
       "      <td>17500.00</td>\n",
       "    </tr>\n",
       "    <tr>\n",
       "      <th>50%</th>\n",
       "      <td>4.70</td>\n",
       "      <td>42000.00</td>\n",
       "    </tr>\n",
       "    <tr>\n",
       "      <th>75%</th>\n",
       "      <td>4.80</td>\n",
       "      <td>99500.00</td>\n",
       "    </tr>\n",
       "    <tr>\n",
       "      <th>max</th>\n",
       "      <td>5.00</td>\n",
       "      <td>3200000.00</td>\n",
       "    </tr>\n",
       "  </tbody>\n",
       "</table>\n",
       "</div>"
      ],
      "text/plain": [
       "       Course Rating  Students Enrolled\n",
       "count         891.00             891.00\n",
       "mean            4.68           90552.08\n",
       "std             0.16          181936.45\n",
       "min             3.30            1500.00\n",
       "25%             4.60           17500.00\n",
       "50%             4.70           42000.00\n",
       "75%             4.80           99500.00\n",
       "max             5.00         3200000.00"
      ]
     },
     "execution_count": 14,
     "metadata": {},
     "output_type": "execute_result"
    }
   ],
   "source": [
    "courses.describe()"
   ]
  },
  {
   "cell_type": "markdown",
   "id": "d197452a",
   "metadata": {},
   "source": [
    "**Plotting the distributions and identify any outliers.**"
   ]
  },
  {
   "cell_type": "code",
   "execution_count": 15,
   "id": "512c7374",
   "metadata": {},
   "outputs": [
    {
     "data": {
      "image/png": "[encoded data removed]",
      "text/plain": [
       "<Figure size 864x432 with 2 Axes>"
      ]
     },
     "metadata": {
      "needs_background": "light"
     },
     "output_type": "display_data"
    }
   ],
   "source": [
    "features = [\"Course Rating\", \"Students Enrolled\"]\n",
    "colors = [\"#66c2a5\", \"#fc8d62\"]\n",
    "\n",
    "fig, axes = plt.subplots(1, 2, figsize=(12, 6))\n",
    "\n",
    "for i, (feature, color) in enumerate(zip(features, colors)):\n",
    "    sns.boxplot(data=courses, y=feature, ax=axes[i], color=color)\n",
    "    axes[i].set_title(feature, fontsize=16)\n",
    "    axes[i].set(ylabel=None)\n",
    "    axes[i].set_facecolor(\"white\")\n",
    "    axes[i].grid(False)\n",
    "\n",
    "axes[1].set_yscale(\"log\")\n",
    "y_ticks = [1500, 17500, 42000, 99500, 230000, 1000000, 3200000]\n",
    "axes[1].set_yticks(y_ticks)\n",
    "axes[1].set_yticklabels([f\"{v:}\" for v in y_ticks])\n",
    "\n",
    "sns.despine(offset=10, trim=True)\n",
    "\n",
    "plt.tight_layout()\n",
    "plt.show()"
   ]
  },
  {
   "cell_type": "markdown",
   "id": "0ca50c5a",
   "metadata": {},
   "source": [
    "* **Course Rating:** The ratings are generally high, with a narrow range. Most ratings fall between 4.60 and 4.80.\n",
    "* **Students Enrolled:** Enrollments exhibit high variability, ranging from 1500 to 3200000 students. Most courses have between 17500 and 99500 students.\n",
    "* **Outliers:** There are few outliers in <font color='red'>Course Rating</font>, while <font color='blue'>Students Enrolled</font> shows significant outliers with courses having extremely high enrollments.\n",
    "\n"
   ]
  },
  {
   "cell_type": "markdown",
   "id": "82235f90",
   "metadata": {},
   "source": [
    "**Printing outliers and calculating outliers ratio.**"
   ]
  },
  {
   "cell_type": "code",
   "execution_count": 16,
   "id": "87bbdc7b",
   "metadata": {},
   "outputs": [
    {
     "name": "stdout",
     "output_type": "stream",
     "text": [
      "Outliers sorted in ascending order for 'Course Rating':\n",
      "413   3.30\n",
      "566   3.70\n",
      "569   3.90\n",
      "873   3.90\n",
      "598   4.00\n",
      "522   4.00\n",
      "414   4.10\n",
      "59    4.20\n",
      "515   4.20\n",
      "445   4.20\n",
      "331   4.20\n",
      "402   4.20\n",
      "590   4.20\n",
      "640   4.20\n",
      "676   4.20\n",
      "182   4.20\n",
      "844   4.20\n",
      "Name: Course Rating, dtype: float64\n",
      "\n",
      "Outlier ratio for 'Course Rating': 0.0191\n"
     ]
    }
   ],
   "source": [
    "feature = \"Course Rating\"\n",
    "\n",
    "Q1 = courses[feature].quantile(0.25)\n",
    "Q3 = courses[feature].quantile(0.75)\n",
    "\n",
    "IQR = Q3 - Q1\n",
    "\n",
    "lower_bound = Q1 - 1.5 * IQR\n",
    "upper_bound = Q3 + 1.5 * IQR\n",
    "\n",
    "outliers = courses[(courses[feature] < lower_bound) | (courses[feature] > upper_bound)]\n",
    "outliers_sorted_asc = outliers.sort_values(by=feature, ascending=True)\n",
    "\n",
    "print(f\"Outliers sorted in ascending order for '{feature}':\")\n",
    "print(outliers_sorted_asc[feature])\n",
    "\n",
    "outlier_ratio = len(outliers) / len(courses)\n",
    "\n",
    "print(f\"\\nOutlier ratio for '{feature}': {outlier_ratio:.4f}\")"
   ]
  },
  {
   "cell_type": "code",
   "execution_count": 17,
   "id": "c7e6fe62",
   "metadata": {},
   "outputs": [
    {
     "name": "stdout",
     "output_type": "stream",
     "text": [
      "\n",
      "Outliers sorted in descending order for 'Students Enrolled':\n",
      "564    3200000\n",
      "815    2500000\n",
      "688    1500000\n",
      "674    1300000\n",
      "196     830000\n",
      "        ...   \n",
      "215     240000\n",
      "565     240000\n",
      "260     230000\n",
      "679     230000\n",
      "605     230000\n",
      "Name: Students Enrolled, Length: 78, dtype: int64\n",
      "\n",
      "Outlier ratio for 'Students Enrolled': 0.0875\n"
     ]
    }
   ],
   "source": [
    "feature = \"Students Enrolled\"\n",
    "\n",
    "Q1 = courses[feature].quantile(0.25)\n",
    "Q3 = courses[feature].quantile(0.75)\n",
    "\n",
    "IQR = Q3 - Q1\n",
    "\n",
    "lower_bound = Q1 - 1.5 * IQR\n",
    "upper_bound = Q3 + 1.5 * IQR\n",
    "\n",
    "outliers = courses[(courses[feature] < lower_bound) | (courses[feature] > upper_bound)]\n",
    "outliers_sorted_desc = outliers.sort_values(by=feature, ascending=False)\n",
    "\n",
    "print(f\"\\nOutliers sorted in descending order for '{feature}':\")\n",
    "print(outliers_sorted_desc[feature])\n",
    "\n",
    "outlier_ratio = len(outliers) / len(courses)\n",
    "\n",
    "print(f\"\\nOutlier ratio for '{feature}': {outlier_ratio:.4f}\")"
   ]
  },
  {
   "cell_type": "markdown",
   "id": "6cddde37",
   "metadata": {},
   "source": [
    "**Analyzing the relationship between <font color='red'>Course Rating</font> and <font color='blue'>Students Enrolled</font>.**"
   ]
  },
  {
   "cell_type": "code",
   "execution_count": 18,
   "id": "9453b6bc",
   "metadata": {},
   "outputs": [
    {
     "data": {
      "image/png": "[encoded data removed]",
      "text/plain": [
       "<Figure size 1008x504 with 1 Axes>"
      ]
     },
     "metadata": {
      "needs_background": "light"
     },
     "output_type": "display_data"
    }
   ],
   "source": [
    "plt.figure(figsize=(14, 7))\n",
    "sns.regplot(\n",
    "    data=courses,\n",
    "    x=\"Course Rating\",\n",
    "    y=\"Students Enrolled\",\n",
    "    scatter_kws={\"s\": 10, \"alpha\": 0.7},\n",
    "    ci=None,\n",
    ")\n",
    "\n",
    "plt.yscale(\"log\")\n",
    "y_ticks = [1500, 10000, 100000, 1000000, 3200000]\n",
    "plt.yticks(y_ticks, [f\"{v:}\" for v in y_ticks])\n",
    "\n",
    "plt.grid(False)\n",
    "plt.gca().spines[\"top\"].set_visible(False)\n",
    "plt.gca().spines[\"right\"].set_visible(False)\n",
    "plt.title(\"Analyzing the Relationship\", fontsize=16)\n",
    "\n",
    "plt.show()"
   ]
  },
  {
   "cell_type": "markdown",
   "id": "049c8920",
   "metadata": {},
   "source": [
    "**There appears to be a non-linear relationship.**"
   ]
  },
  {
   "cell_type": "markdown",
   "id": "46b67f5c",
   "metadata": {},
   "source": [
    "Reusable function to plot correlation matrix:"
   ]
  },
  {
   "cell_type": "code",
   "execution_count": 19,
   "id": "c3516512",
   "metadata": {},
   "outputs": [],
   "source": [
    "def corr_plot(correlation_matrix, title=\"My Title\", color=\"cividis\"):\n",
    "    plt.subplots(figsize=(10, 5))\n",
    "    plt.title(title, fontsize=16)\n",
    "\n",
    "    sns.heatmap(\n",
    "        correlation_matrix,\n",
    "        linewidths=0.2,\n",
    "        vmax=0.7,\n",
    "        square=True,\n",
    "        cmap=color,\n",
    "        linecolor=\"w\",\n",
    "        annot=True,\n",
    "        annot_kws={\"size\": 9},\n",
    "        cbar_kws={\"shrink\": 0.5},\n",
    "    )"
   ]
  },
  {
   "cell_type": "markdown",
   "id": "1bd26b80",
   "metadata": {},
   "source": [
    "**Calculating Pearson correlation.**"
   ]
  },
  {
   "cell_type": "code",
   "execution_count": 20,
   "id": "30b5ce19",
   "metadata": {},
   "outputs": [
    {
     "data": {
      "image/png": "[encoded data removed]",
      "text/plain": [
       "<Figure size 720x360 with 2 Axes>"
      ]
     },
     "metadata": {
      "needs_background": "light"
     },
     "output_type": "display_data"
    }
   ],
   "source": [
    "df_numeric = courses.select_dtypes(include=np.number)\n",
    "correlation_matrix = df_numeric.corr()\n",
    "\n",
    "corr_plot(correlation_matrix, \"Correlation Matrix\")"
   ]
  },
  {
   "cell_type": "markdown",
   "id": "13baefa7",
   "metadata": {},
   "source": [
    "**No linear relationship identified.**"
   ]
  },
  {
   "cell_type": "markdown",
   "id": "60c17026",
   "metadata": {},
   "source": [
    "### 3.3 Analysing the distribution of <font color='blue'>Students Enrolled</font> by <font color='red'>Course Difficulty</font>, as well as by <font color='red'>Course Certificate Type</font>."
   ]
  },
  {
   "cell_type": "markdown",
   "id": "953eb354",
   "metadata": {},
   "source": [
    "**Plotting distributions (using <font color='blue'>Students Enrolled</font> median values instead of mean, because values vary a lot).**"
   ]
  },
  {
   "cell_type": "code",
   "execution_count": 21,
   "id": "6ac99884",
   "metadata": {},
   "outputs": [
    {
     "data": {
      "image/png": "[encoded data removed]",
      "text/plain": [
       "<Figure size 1080x432 with 2 Axes>"
      ]
     },
     "metadata": {
      "needs_background": "light"
     },
     "output_type": "display_data"
    }
   ],
   "source": [
    "x_vars = [\"Course Difficulty\", \"Course Certificate Type\"]\n",
    "titles = [\n",
    "    \"Students Enrolled (median) by Course Difficulty\",\n",
    "    \"Students Enrolled (median) by Course Certificate Type\",\n",
    "]\n",
    "\n",
    "fig, axes = plt.subplots(1, 2, figsize=(15, 6))\n",
    "\n",
    "for ax, x_var, title in zip(axes, x_vars, titles):\n",
    "    sns.barplot(\n",
    "        x=x_var,\n",
    "        y=\"Students Enrolled\",\n",
    "        hue=x_var,\n",
    "        data=courses,\n",
    "        ax=ax,\n",
    "        palette=\"muted\",\n",
    "        legend=False,\n",
    "        estimator=np.median,\n",
    "        errorbar=None,\n",
    "    )\n",
    "    ax.set_title(title, fontsize=16)\n",
    "    ax.set(xlabel=None, ylabel=None)\n",
    "    ax.set_ylim(0, None)\n",
    "    ax.set_facecolor(\"white\")\n",
    "    ax.spines[\"top\"].set_visible(False)\n",
    "    ax.spines[\"right\"].set_visible(False)\n",
    "\n",
    "    for p in ax.patches:\n",
    "        height = p.get_height()\n",
    "        ax.text(\n",
    "            p.get_x() + p.get_width() / 2,\n",
    "            height + 0.05,\n",
    "            f\"{height:.0f}\",\n",
    "            ha=\"center\",\n",
    "            va=\"bottom\",\n",
    "            fontsize=10,\n",
    "            color=\"black\",\n",
    "        )\n",
    "\n",
    "plt.tight_layout()\n",
    "plt.show()"
   ]
  },
  {
   "cell_type": "markdown",
   "id": "cf86d7e7",
   "metadata": {},
   "source": [
    "* **Students enrolled in <font color='blue'>Mixed</font> difficulty courses are almost twice as frequent as others, which is expected since it falls between <font color='blue'>Intermediate</font> and <font color='blue'>Advanced</font> courses.**\n",
    "* **Despite only a few courses offering a <font color='blue'>Professional Certificate</font>, these courses have more than three times as many students as other course types.**"
   ]
  },
  {
   "cell_type": "markdown",
   "id": "ae7cfbb7",
   "metadata": {},
   "source": [
    "### 3.4 Analysis by Organization in order to identify the best organizations for learning"
   ]
  },
  {
   "cell_type": "code",
   "execution_count": 22,
   "id": "86469049",
   "metadata": {},
   "outputs": [],
   "source": [
    "organizations = (\n",
    "    courses.groupby(\"Course Organization\")\n",
    "    .agg(\n",
    "        Courses=(\"Course Organization\", \"count\"),\n",
    "        Students=(\"Students Enrolled\", \"median\"),\n",
    "        Rating=(\"Course Rating\", \"mean\"),\n",
    "    )\n",
    "    .reset_index()\n",
    ")"
   ]
  },
  {
   "cell_type": "code",
   "execution_count": 23,
   "id": "f40a5341",
   "metadata": {},
   "outputs": [
    {
     "data": {
      "text/html": [
       "<div>\n",
       "<style scoped>\n",
       "    .dataframe tbody tr th:only-of-type {\n",
       "        vertical-align: middle;\n",
       "    }\n",
       "\n",
       "    .dataframe tbody tr th {\n",
       "        vertical-align: top;\n",
       "    }\n",
       "\n",
       "    .dataframe thead th {\n",
       "        text-align: right;\n",
       "    }\n",
       "</style>\n",
       "<table border=\"1\" class=\"dataframe\">\n",
       "  <thead>\n",
       "    <tr style=\"text-align: right;\">\n",
       "      <th></th>\n",
       "      <th>Course Organization</th>\n",
       "      <th>Courses</th>\n",
       "      <th>Students</th>\n",
       "      <th>Rating</th>\n",
       "    </tr>\n",
       "  </thead>\n",
       "  <tbody>\n",
       "    <tr>\n",
       "      <th>0</th>\n",
       "      <td>(ISC)²</td>\n",
       "      <td>3</td>\n",
       "      <td>2900.00</td>\n",
       "      <td>4.73</td>\n",
       "    </tr>\n",
       "    <tr>\n",
       "      <th>1</th>\n",
       "      <td>Amazon Web Services</td>\n",
       "      <td>6</td>\n",
       "      <td>50000.00</td>\n",
       "      <td>4.55</td>\n",
       "    </tr>\n",
       "    <tr>\n",
       "      <th>2</th>\n",
       "      <td>American Institute of Business and Economics</td>\n",
       "      <td>1</td>\n",
       "      <td>11000.00</td>\n",
       "      <td>4.40</td>\n",
       "    </tr>\n",
       "    <tr>\n",
       "      <th>3</th>\n",
       "      <td>American Museum of Natural History</td>\n",
       "      <td>2</td>\n",
       "      <td>15000.00</td>\n",
       "      <td>4.75</td>\n",
       "    </tr>\n",
       "    <tr>\n",
       "      <th>4</th>\n",
       "      <td>Arizona State University</td>\n",
       "      <td>7</td>\n",
       "      <td>81000.00</td>\n",
       "      <td>4.77</td>\n",
       "    </tr>\n",
       "  </tbody>\n",
       "</table>\n",
       "</div>"
      ],
      "text/plain": [
       "                            Course Organization  Courses  Students  Rating\n",
       "0                                        (ISC)²        3   2900.00    4.73\n",
       "1                           Amazon Web Services        6  50000.00    4.55\n",
       "2  American Institute of Business and Economics        1  11000.00    4.40\n",
       "3            American Museum of Natural History        2  15000.00    4.75\n",
       "4                      Arizona State University        7  81000.00    4.77"
      ]
     },
     "execution_count": 23,
     "metadata": {},
     "output_type": "execute_result"
    }
   ],
   "source": [
    "organizations.head()"
   ]
  },
  {
   "cell_type": "markdown",
   "id": "c5e0f2e1",
   "metadata": {},
   "source": [
    "**Analyzing the relationship between <font color='blue'>Students Enrolled</font> and <font color='red'>Courses</font>.**"
   ]
  },
  {
   "cell_type": "code",
   "execution_count": 24,
   "id": "ce157f6e",
   "metadata": {},
   "outputs": [
    {
     "data": {
      "image/png": "[encoded data removed]",
      "text/plain": [
       "<Figure size 720x360 with 1 Axes>"
      ]
     },
     "metadata": {
      "needs_background": "light"
     },
     "output_type": "display_data"
    }
   ],
   "source": [
    "plt.figure(figsize=(10, 5))\n",
    "\n",
    "sns.regplot(\n",
    "    x=organizations[\"Courses\"],\n",
    "    y=organizations[\"Students\"],\n",
    "    scatter_kws={\"s\": 20, \"alpha\": 0.7},\n",
    "    ci=None,\n",
    ")\n",
    "plt.grid(False)\n",
    "plt.gca().spines[\"top\"].set_visible(False)\n",
    "plt.gca().spines[\"right\"].set_visible(False)\n",
    "plt.title(\"Analyzing the Relationship\", fontsize=16)\n",
    "\n",
    "plt.show()"
   ]
  },
  {
   "cell_type": "markdown",
   "id": "c7cf4030",
   "metadata": {},
   "source": [
    "**There appears to be a weak linear relationship. Calculating Pearson correlation.**"
   ]
  },
  {
   "cell_type": "code",
   "execution_count": 25,
   "id": "c1398565",
   "metadata": {},
   "outputs": [
    {
     "data": {
      "image/png": "[encoded data removed]",
      "text/plain": [
       "<Figure size 720x360 with 2 Axes>"
      ]
     },
     "metadata": {
      "needs_background": "light"
     },
     "output_type": "display_data"
    }
   ],
   "source": [
    "df_numeric = organizations[[\"Courses\", \"Students\"]]\n",
    "correlation_matrix = df_numeric.corr()\n",
    "\n",
    "corr_plot(correlation_matrix, \"Correlation Matrix\")"
   ]
  },
  {
   "cell_type": "markdown",
   "id": "5145f95a",
   "metadata": {},
   "source": [
    "**The number of students enrolled per organization shows a weak positive correlation with the number of courses offered. In general, organizations offering more courses do not necessarily have a higher number of enrolled students.**"
   ]
  },
  {
   "cell_type": "markdown",
   "id": "0d467e40",
   "metadata": {},
   "source": [
    "**Creating a new feature as <font color='red'>Overall Rating</font>.**"
   ]
  },
  {
   "cell_type": "code",
   "execution_count": 26,
   "id": "9701e899",
   "metadata": {},
   "outputs": [],
   "source": [
    "numeric_columns = [\"Courses\", \"Students\", \"Rating\"]\n",
    "non_numeric_columns = organizations.drop(columns=numeric_columns)\n",
    "\n",
    "scaler = MinMaxScaler()\n",
    "df_normalized = pd.DataFrame(\n",
    "    scaler.fit_transform(organizations[numeric_columns]), columns=numeric_columns\n",
    ")\n",
    "\n",
    "weights = {\"Courses\": 0.3, \"Students\": 0.5, \"Rating\": 0.2}\n",
    "organizations[\"Overall Rating\"] = (\n",
    "    df_normalized[numeric_columns].mul(pd.Series(weights)).sum(axis=1)\n",
    ")"
   ]
  },
  {
   "cell_type": "markdown",
   "id": "d93cb2d7",
   "metadata": {},
   "source": [
    "**The weights were chosen as follows: <font color='red'>Students</font> (0.5) has the highest impact because enrollment reflects popularity and trust, <font color='red'>Courses</font> (0.3) has moderate influence as the number of courses offered increases selection opportunities, and <font color='red'>Rating</font> (0.2) has the smallest weight due to its consistently high average (4.68/5), which limits its differentiating effect.**"
   ]
  },
  {
   "cell_type": "code",
   "execution_count": 27,
   "id": "c892f76b",
   "metadata": {},
   "outputs": [
    {
     "data": {
      "text/html": [
       "<div>\n",
       "<style scoped>\n",
       "    .dataframe tbody tr th:only-of-type {\n",
       "        vertical-align: middle;\n",
       "    }\n",
       "\n",
       "    .dataframe tbody tr th {\n",
       "        vertical-align: top;\n",
       "    }\n",
       "\n",
       "    .dataframe thead th {\n",
       "        text-align: right;\n",
       "    }\n",
       "</style>\n",
       "<table border=\"1\" class=\"dataframe\">\n",
       "  <thead>\n",
       "    <tr style=\"text-align: right;\">\n",
       "      <th></th>\n",
       "      <th>Course Organization</th>\n",
       "      <th>Courses</th>\n",
       "      <th>Students</th>\n",
       "      <th>Rating</th>\n",
       "      <th>Overall Rating</th>\n",
       "    </tr>\n",
       "  </thead>\n",
       "  <tbody>\n",
       "    <tr>\n",
       "      <th>0</th>\n",
       "      <td>(ISC)²</td>\n",
       "      <td>3</td>\n",
       "      <td>2900.00</td>\n",
       "      <td>4.73</td>\n",
       "      <td>0.16</td>\n",
       "    </tr>\n",
       "    <tr>\n",
       "      <th>1</th>\n",
       "      <td>Amazon Web Services</td>\n",
       "      <td>6</td>\n",
       "      <td>50000.00</td>\n",
       "      <td>4.55</td>\n",
       "      <td>0.22</td>\n",
       "    </tr>\n",
       "    <tr>\n",
       "      <th>2</th>\n",
       "      <td>American Institute of Business and Economics</td>\n",
       "      <td>1</td>\n",
       "      <td>11000.00</td>\n",
       "      <td>4.40</td>\n",
       "      <td>0.06</td>\n",
       "    </tr>\n",
       "    <tr>\n",
       "      <th>3</th>\n",
       "      <td>American Museum of Natural History</td>\n",
       "      <td>2</td>\n",
       "      <td>15000.00</td>\n",
       "      <td>4.75</td>\n",
       "      <td>0.19</td>\n",
       "    </tr>\n",
       "    <tr>\n",
       "      <th>4</th>\n",
       "      <td>Arizona State University</td>\n",
       "      <td>7</td>\n",
       "      <td>81000.00</td>\n",
       "      <td>4.77</td>\n",
       "      <td>0.36</td>\n",
       "    </tr>\n",
       "  </tbody>\n",
       "</table>\n",
       "</div>"
      ],
      "text/plain": [
       "                            Course Organization  Courses  Students  Rating  \\\n",
       "0                                        (ISC)²        3   2900.00    4.73   \n",
       "1                           Amazon Web Services        6  50000.00    4.55   \n",
       "2  American Institute of Business and Economics        1  11000.00    4.40   \n",
       "3            American Museum of Natural History        2  15000.00    4.75   \n",
       "4                      Arizona State University        7  81000.00    4.77   \n",
       "\n",
       "   Overall Rating  \n",
       "0            0.16  \n",
       "1            0.22  \n",
       "2            0.06  \n",
       "3            0.19  \n",
       "4            0.36  "
      ]
     },
     "execution_count": 27,
     "metadata": {},
     "output_type": "execute_result"
    }
   ],
   "source": [
    "organizations.head()"
   ]
  },
  {
   "cell_type": "markdown",
   "id": "47ea29b9",
   "metadata": {},
   "source": [
    "**Plotting Top 10 organizations.**"
   ]
  },
  {
   "cell_type": "code",
   "execution_count": 28,
   "id": "ad0468a8",
   "metadata": {},
   "outputs": [
    {
     "data": {
      "image/png": "[encoded data removed]",
      "text/plain": [
       "<Figure size 720x432 with 1 Axes>"
      ]
     },
     "metadata": {
      "needs_background": "light"
     },
     "output_type": "display_data"
    }
   ],
   "source": [
    "top_10_organizations = organizations.nlargest(10, \"Overall Rating\")\n",
    "\n",
    "plt.figure(figsize=(10, 6))\n",
    "ax = sns.barplot(\n",
    "    x=\"Overall Rating\",\n",
    "    y=\"Course Organization\",\n",
    "    data=top_10_organizations,\n",
    "    palette=\"viridis\",\n",
    "    hue=\"Course Organization\",\n",
    "    legend=False,\n",
    ")\n",
    "\n",
    "plt.title(\"Top 10 Organizations by Overall Rating\", fontsize=16)\n",
    "plt.gca().spines[\"top\"].set_visible(False)\n",
    "plt.gca().spines[\"right\"].set_visible(False)\n",
    "\n",
    "plt.gca().set_xlabel(None)\n",
    "plt.gca().set_ylabel(None)\n",
    "\n",
    "for p in ax.patches:\n",
    "    ax.text(\n",
    "        p.get_width() + 0.01,\n",
    "        p.get_y() + p.get_height() / 2,\n",
    "        f\"{p.get_width():.2f}\",\n",
    "        ha=\"left\",\n",
    "        va=\"center\",\n",
    "        color=\"black\",\n",
    "        fontsize=10,\n",
    "    )\n",
    "\n",
    "plt.tight_layout()\n",
    "\n",
    "plt.show()"
   ]
  },
  {
   "cell_type": "markdown",
   "id": "e2e79857",
   "metadata": {},
   "source": [
    "## 4. Conclusions"
   ]
  },
  {
   "cell_type": "markdown",
   "id": "f06f846d",
   "metadata": {},
   "source": [
    "* **The organizations tend to offer a wide variety of beginner-level courses, with a stronger emphasis on general courses rather than specialized or professional certifications.**\n",
    "* **<font color='blue'>Students Enrolled</font> in <font color='red'>Mixed</font> difficulty courses are nearly twice as frequent as others, while <font color='red'>Professional Certificate</font> courses, though few in number, have more than three times as many students as other course types.**\n",
    "* **Course ratings are generally high with a narrow range, while student enrollments exhibit high variability with significant outliers in the number of students.**\n",
    "* **The selection of weights for identifying the best organizations is quite subjective. However, the <font color='red'>Turing College</font> is the best organization!** "
   ]
  },
  {
   "cell_type": "markdown",
   "id": "57bfad78",
   "metadata": {},
   "source": [
    "## 5. Suggestions for how my analysis could be improved"
   ]
  },
  {
   "cell_type": "markdown",
   "id": "db0162c8",
   "metadata": {},
   "source": [
    "* **Data Transformation:** Converting <font color='blue'>Students Enrolled</font> to a numeric format was done, but categorizing this into ranges (e.g., small, medium, large) could provide additional insights.\n",
    "* **Correlation Analysis:** The correlation matrix does not show significant relationships. Exploring more advanced techniques like Spearman correlation for non-linear relationships could add depth."
   ]
  }
 ],
 "metadata": {
  "kernelspec": {
   "display_name": "Python 3 (ipykernel)",
   "language": "python",
   "name": "python3"
  },
  "language_info": {
   "codemirror_mode": {
    "name": "ipython",
    "version": 3
   },
   "file_extension": ".py",
   "mimetype": "text/x-python",
   "name": "python",
   "nbconvert_exporter": "python",
   "pygments_lexer": "ipython3",
   "version": "3.10.3"
  }
 },
 "nbformat": 4,
 "nbformat_minor": 5
}
